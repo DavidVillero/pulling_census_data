{
 "cells": [
  {
   "cell_type": "code",
   "execution_count": 2,
   "id": "b3d056b8",
   "metadata": {},
   "outputs": [],
   "source": [
    "import requests\n",
    "import pandas as pd\n",
    "import http.client"
   ]
  },
  {
   "cell_type": "code",
   "execution_count": 3,
   "id": "9d82bc11",
   "metadata": {},
   "outputs": [],
   "source": [
    "year = 2020\n",
    "zip_cd = '11217'\n",
    "\n",
    "census_table = \"table?g=860XX00US\"+zip_cd\n",
    "table_id = f\"ACSDP5Y{year}.DP02\"\n",
    "\n",
    "url = \"https://data.census.gov/api/access/data/\"+census_table+\"&id=\"+table_id"
   ]
  },
  {
   "cell_type": "code",
   "execution_count": null,
   "id": "d65ff2fd",
   "metadata": {},
   "outputs": [],
   "source": [
    "payload={}\n",
    "headers = {\n",
    "  'authority': 'data.census.gov',\n",
    "  'accept': 'application/json, text/plain, */*',\n",
    "#   'accept-language': 'en-US,en;q=0.9',\n",
    "#   'cookie': 'TS0124e764=01283c52a43947437e85abae00270642b6ecc9ac2aa5b6208aafa69b3dca873d313d837b4ce0e14f4d94f00de8389aebaf47dd2fb1; JSESSIONID=F626464C74D8B7F4E8D8CBDBC44687AC; _ga=GA1.2.1773745260.1663705616; at_check=true; AMCVS_3BE068F454E7806E0A4C98A6%40AdobeOrg=1; s_cc=true; _ga=GA1.3.1773745260.1663705616; RT=\"z=1&dm=census.gov&si=2352a5cf-6dee-4037-9fb4-cde7a42ee9a4&ss=l8ynbetd&sl=0&tt=0&se=p0&bcn=%2F%2F173bf106.akstat.io%2F\"; s_sq=cebucensusglobalprod%3D%2526c.%2526a.%2526activitymap.%2526page%253DData%252520Profiles%2526link%253DSocial%252520Characteristics%2526region%253Ddp02%2526pageIDType%253D1%2526.activitymap%2526.a%2526.c%2526pid%253DData%252520Profiles%2526pidt%253D1%2526oid%253Dhttps%25253A%25252F%25252Fdata.census.gov%25252Fcedsci%25252Ftable%25253Ftid%25253DACSDP5Y2017.DP02%252526g%25253D0400000US01_8600000US35020%2526ot%253DA; s_ips=937; s_tp=937; s_nr60=1665412492464-Repeat; s_tslv=1665412492464; s_inv=236005; s_vnc60=1670596492466%26vn%3D8; s_ivc=true; s_ppv=DP02%253A%2520SELECTED%2520SOCIAL...%2520-%2520Census%2520Bureau%2520Table%2C100%2C100%2C937%2C1%2C1; RT=\"z=1&dm=data.census.gov&si=2352a5cf-6dee-4037-9fb4-cde7a42ee9a4&ss=l8ynbetd&sl=0&tt=0&se=p0&bcn=%2F%2F173bf106.akstat.io%2F&hd=48c5g3\"; AMCV_3BE068F454E7806E0A4C98A6%40AdobeOrg=1176715910%7CMCIDTS%7C19276%7CMCMID%7C26774414773444244003147967362534099453%7CMCAAMLH-1666017387%7C7%7CMCAAMB-1666017387%7CRKhpRz8krg2tLO6pguXWp5olkAcUniQYPHaMWWgdJ3xzPWQmdj0y%7CMCOPTOUT-1665419787s%7CNONE%7CvVersion%7C5.4.0; mbox=PC#661243340a1b4845ab517447662d7d82.34_0#1728657388|session#13988a0257c042f2b726caccb1c30446#1665414448; TS017f40ac=01283c52a43867b8ce7a38c90fe4c53c007dfee9fdccdbf5804ba836f9e054ef89068239013e1b9da39bd77a0ac9b037fcbf803895; bm_sv=3C9EA1C7DB493B4DCBF0F34514DC266D~YAAQmYIsF43OzbGDAQAAGltTwhEgQXIv7Zm0rN5l6+fqkel6gwrjfTscMPz5e2XlnJsS66g/wRMp5wqrmzVIB9fSXqXTV/Gtm6xx1EDfeFIU+gaCAaqWDNxh1z7J+4Xu2EGnNx0p2p16Qc/CMDSK39C8I/8KIZ46lOuJlvLdPOJ9GRSHBt3HEK4zQjMANuRdbwYI6nbATpMRVp3JYAERzN5fhRlii6r1Na0OS2JuWdBF8TlwS3QsSBef4CukDh3o~1; ak_bmsc=FC72E48B5E0C061113AD0E1FD20C53F1~000000000000000000000000000000~YAAQmYIsF47OzbGDAQAAKFtTwhFpjWHmSLeNqRH3zODBswxU/HFT5FaVY6mLiNK6QOZOXRzPO80vLqYIGm6H2bBB6wew0z+3iPHsAHUut+M8cf0013/1elip2P4a6StrqCkyYV7K8YDs2KG9XksztsaYQ7e0Eo9st2lcRDNQ7sKibtNpE1GKBe3Ur6h6lAn2K1OCOQo+QYg9yh/e3pPKhQRH+iuo396WT/dNoM1hjtnDfUmYgjuszl8Ic+ukCwABJtVWYl+K+c6Ae3u7osLE4Ng8ozfEmIwj+cj0isybwwTut6jq1CZOsaKpL2OzmYhEmWNOACyCfjYkOelhM04ImuFVJVXWYH0RxLEp81WpcKUPs0Fg3ARYriQm7sanXvO4WUA2NkJWi607op95uWIBfpCaKDaFnigY5Q40bE8mCz8hV2Q7Fwqw4jo1Xo8rseBeiRi5ZGIbdlBiTV/ZJ3hYYL155g8YlKyauE0DaKhTfgBH3Z9Z4sS27YAbQw==; JSESSIONID=29F8AB9088C73CC89A41D8E16FFE3E74; TS0124e764=01283c52a43947437e85abae00270642b6ecc9ac2aa5b6208aafa69b3dca873d313d837b4ce0e14f4d94f00de8389aebaf47dd2fb1; TS017f40ac=01283c52a43867b8ce7a38c90fe4c53c007dfee9fdccdbf5804ba836f9e054ef89068239013e1b9da39bd77a0ac9b037fcbf803895',\n",
    "  'referer': \"https://data.census.gov/cedsci/\"+census_table+\"&tid=\"+table_id,\n",
    "#   'sec-ch-ua': '\"Chromium\";v=\"106\", \"Google Chrome\";v=\"106\", \"Not;A=Brand\";v=\"99\"',\n",
    "#   'sec-ch-ua-mobile': '?0',\n",
    "#   'sec-ch-ua-platform': '\"Windows\"',\n",
    "#   'sec-fetch-dest': 'empty',\n",
    "#   'sec-fetch-mode': 'cors',\n",
    "#   'sec-fetch-site': 'same-origin',\n",
    "#   'user-agent': 'Mozilla/5.0 (Windows NT 10.0; Win64; x64) AppleWebKit/537.36 (KHTML, like Gecko) Chrome/106.0.0.0 Safari/537.36'\n",
    "}\n",
    "\n",
    "response = requests.request(\"GET\", url, headers=headers, data=payload)\n",
    "data = response.json()"
   ]
  },
  {
   "cell_type": "code",
   "execution_count": null,
   "id": "93b8d053",
   "metadata": {},
   "outputs": [],
   "source": [
    "conn = http.client.HTTPSConnection(\"data.census.gov\")\n",
    "payload = ''\n",
    "headers = {\n",
    "  'authority': 'data.census.gov',\n",
    "  'accept': 'application/json, text/plain, */*',\n",
    "  'accept-language': 'en-US,en;q=0.9',\n",
    "#   'cookie': 'TS0124e764=01283c52a43947437e85abae00270642b6ecc9ac2aa5b6208aafa69b3dca873d313d837b4ce0e14f4d94f00de8389aebaf47dd2fb1; JSESSIONID=F626464C74D8B7F4E8D8CBDBC44687AC; _ga=GA1.2.1773745260.1663705616; at_check=true; AMCVS_3BE068F454E7806E0A4C98A6%40AdobeOrg=1; s_cc=true; _ga=GA1.3.1773745260.1663705616; RT=\"z=1&dm=census.gov&si=2352a5cf-6dee-4037-9fb4-cde7a42ee9a4&ss=l8ynbetd&sl=0&tt=0&se=p0&bcn=%2F%2F173bf106.akstat.io%2F\"; s_sq=cebucensusglobalprod%3D%2526c.%2526a.%2526activitymap.%2526page%253DData%252520Profiles%2526link%253DSocial%252520Characteristics%2526region%253Ddp02%2526pageIDType%253D1%2526.activitymap%2526.a%2526.c%2526pid%253DData%252520Profiles%2526pidt%253D1%2526oid%253Dhttps%25253A%25252F%25252Fdata.census.gov%25252Fcedsci%25252Ftable%25253Ftid%25253DACSDP5Y2017.DP02%252526g%25253D0400000US01_8600000US35020%2526ot%253DA; s_ips=937; s_tp=937; s_nr60=1665412492464-Repeat; s_tslv=1665412492464; s_inv=236005; s_vnc60=1670596492466%26vn%3D8; s_ivc=true; s_ppv=DP02%253A%2520SELECTED%2520SOCIAL...%2520-%2520Census%2520Bureau%2520Table%2C100%2C100%2C937%2C1%2C1; RT=\"z=1&dm=data.census.gov&si=2352a5cf-6dee-4037-9fb4-cde7a42ee9a4&ss=l8ynbetd&sl=0&tt=0&se=p0&bcn=%2F%2F173bf106.akstat.io%2F&hd=48c5g3\"; AMCV_3BE068F454E7806E0A4C98A6%40AdobeOrg=1176715910%7CMCIDTS%7C19276%7CMCMID%7C26774414773444244003147967362534099453%7CMCAAMLH-1666017387%7C7%7CMCAAMB-1666017387%7CRKhpRz8krg2tLO6pguXWp5olkAcUniQYPHaMWWgdJ3xzPWQmdj0y%7CMCOPTOUT-1665419787s%7CNONE%7CvVersion%7C5.4.0; mbox=PC#661243340a1b4845ab517447662d7d82.34_0#1728657388|session#13988a0257c042f2b726caccb1c30446#1665414448; TS017f40ac=01283c52a43867b8ce7a38c90fe4c53c007dfee9fdccdbf5804ba836f9e054ef89068239013e1b9da39bd77a0ac9b037fcbf803895; bm_sv=3C9EA1C7DB493B4DCBF0F34514DC266D~YAAQmYIsF43OzbGDAQAAGltTwhEgQXIv7Zm0rN5l6+fqkel6gwrjfTscMPz5e2XlnJsS66g/wRMp5wqrmzVIB9fSXqXTV/Gtm6xx1EDfeFIU+gaCAaqWDNxh1z7J+4Xu2EGnNx0p2p16Qc/CMDSK39C8I/8KIZ46lOuJlvLdPOJ9GRSHBt3HEK4zQjMANuRdbwYI6nbATpMRVp3JYAERzN5fhRlii6r1Na0OS2JuWdBF8TlwS3QsSBef4CukDh3o~1; ak_bmsc=FC72E48B5E0C061113AD0E1FD20C53F1~000000000000000000000000000000~YAAQmYIsF47OzbGDAQAAKFtTwhFpjWHmSLeNqRH3zODBswxU/HFT5FaVY6mLiNK6QOZOXRzPO80vLqYIGm6H2bBB6wew0z+3iPHsAHUut+M8cf0013/1elip2P4a6StrqCkyYV7K8YDs2KG9XksztsaYQ7e0Eo9st2lcRDNQ7sKibtNpE1GKBe3Ur6h6lAn2K1OCOQo+QYg9yh/e3pPKhQRH+iuo396WT/dNoM1hjtnDfUmYgjuszl8Ic+ukCwABJtVWYl+K+c6Ae3u7osLE4Ng8ozfEmIwj+cj0isybwwTut6jq1CZOsaKpL2OzmYhEmWNOACyCfjYkOelhM04ImuFVJVXWYH0RxLEp81WpcKUPs0Fg3ARYriQm7sanXvO4WUA2NkJWi607op95uWIBfpCaKDaFnigY5Q40bE8mCz8hV2Q7Fwqw4jo1Xo8rseBeiRi5ZGIbdlBiTV/ZJ3hYYL155g8YlKyauE0DaKhTfgBH3Z9Z4sS27YAbQw==; JSESSIONID=29F8AB9088C73CC89A41D8E16FFE3E74; TS0124e764=01283c52a43947437e85abae00270642b6ecc9ac2aa5b6208aafa69b3dca873d313d837b4ce0e14f4d94f00de8389aebaf47dd2fb1; TS017f40ac=01283c52a43867b8ce7a38c90fe4c53c007dfee9fdccdbf5804ba836f9e054ef89068239013e1b9da39bd77a0ac9b037fcbf803895',\n",
    "  'referer': \"https://data.census.gov/cedsci/\"+census_table+\"&tid\"+table_id,\n",
    "  'sec-ch-ua': '\"Chromium\";v=\"106\", \"Google Chrome\";v=\"106\", \"Not;A=Brand\";v=\"99\"',\n",
    "  'sec-ch-ua-mobile': '?0',\n",
    "  'sec-ch-ua-platform': '\"Windows\"',\n",
    "  'sec-fetch-dest': 'empty',\n",
    "  'sec-fetch-mode': 'cors',\n",
    "  'sec-fetch-site': 'same-origin',\n",
    "  'user-agent': 'Mozilla/5.0 (Windows NT 10.0; Win64; x64) AppleWebKit/537.36 (KHTML, like Gecko) Chrome/106.0.0.0 Safari/537.36'\n",
    "}\n",
    "conn.request(\"GET\",\n",
    "             \"/api/access/data/\"+census_table+\"&id\"+table_id,\n",
    "             payload,\n",
    "             headers)\n",
    "res = conn.getresponse()\n",
    "data = res.read()\n",
    "print(data.decode(\"utf-8\"))"
   ]
  },
  {
   "cell_type": "code",
   "execution_count": 15,
   "id": "ca4b1301",
   "metadata": {},
   "outputs": [],
   "source": [
    "plan_types = [plan_dict['name'] for plan_dict in data['DocfindSearchPlanList']['plans']['headerName']]\n",
    "plans = [plan_dict['plan'] for plan_dict in data['DocfindSearchPlanList']['plans']['headerName']]\n",
    "all_plans = []\n",
    "keys_to_keep = ['productCode','pipeName', 'displayName']\n",
    "for i in range(len(plans)):\n",
    "    for plan_deets in plans[i]:\n",
    "        if 'productCode' not in plan_deets.keys():\n",
    "            continue\n",
    "        else:\n",
    "            plan_deets_to_keep = {key:val.replace('&#8480;', '').replace(' SM ', ' ') for key, val in plan_deets.items() if key in keys_to_keep}\n",
    "            plan_deets_to_keep['planType'] = plan_types[i]\n",
    "            product_code = plan_deets['productCode']\n",
    "            all_plans.append(plan_deets_to_keep)"
   ]
  }
 ],
 "metadata": {
  "kernelspec": {
   "display_name": "Python 3 (ipykernel)",
   "language": "python",
   "name": "python3"
  },
  "language_info": {
   "codemirror_mode": {
    "name": "ipython",
    "version": 3
   },
   "file_extension": ".py",
   "mimetype": "text/x-python",
   "name": "python",
   "nbconvert_exporter": "python",
   "pygments_lexer": "ipython3",
   "version": "3.7.10"
  }
 },
 "nbformat": 4,
 "nbformat_minor": 5
}
